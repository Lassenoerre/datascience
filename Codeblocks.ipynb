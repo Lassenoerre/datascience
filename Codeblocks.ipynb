{
 "cells": [
  {
   "cell_type": "markdown",
   "metadata": {},
   "source": [
    "### Codeblock 1.1"
   ]
  },
  {
   "cell_type": "code",
   "execution_count": null,
   "metadata": {},
   "outputs": [],
   "source": [
    "def get_links_to_scrape(start_year, end_year):\n",
    "\n",
    "    import requests\n",
    "    from bs4 import BeautifulSoup, SoupStrainer\n",
    "\n",
    "    months = ['January', 'February', 'March', 'April', 'May', 'June', 'July', 'August', 'September', 'October', 'November', 'December']\n",
    "    years = [year for year in range(start_year, end_year+1)]\n",
    "    \n",
    "    strainer = SoupStrainer('a', class_ = 'SiteMapArticleList-link')\n",
    "    article_links = []\n",
    "\n",
    "    for year in years:\n",
    "        for month in months:\n",
    "            for day in range(1,32):\n",
    "                link = f'https://www.cnbc.com/site-map/{year}/{month}/{day}/'\n",
    "\n",
    "                page = str(requests.get(link).content)\n",
    "                page = page[str(page).find('body'):]\n",
    "                soup = BeautifulSoup(page, parse_only = strainer)\n",
    "\n",
    "                links = soup.find_all('a', class_='SiteMapArticleList-link')\n",
    "                if links != []:\n",
    "                    for a_link in links:\n",
    "                        article_links.append(a_link['href'])\n",
    "\n",
    "    return article_links"
   ]
  },
  {
   "cell_type": "markdown",
   "metadata": {},
   "source": [
    "### Codeblock 1.2"
   ]
  },
  {
   "cell_type": "code",
   "execution_count": null,
   "metadata": {},
   "outputs": [],
   "source": [
    "\n",
    "def scrape_cnbc_articles(list_of_links):\n",
    "\n",
    "    import requests\n",
    "    from bs4 import BeautifulSoup, SoupStrainer\n",
    "    import pandas as pd\n",
    "\n",
    "    df = []\n",
    "    index = 0\n",
    "    request = requests.Session()\n",
    "\n",
    "    for link in list_of_links:\n",
    "        page = request.get(link)\n",
    "        index += 1\n",
    "\n",
    "        if page.status_code == 200:\n",
    "            try:\n",
    "                page = str(page.content)\n",
    "                page = page[page.find('<div id=\"MainContent\"'):]\n",
    "\n",
    "                soup_link = BeautifulSoup(page)\n",
    "\n",
    "                title = soup_link.find('h1', class_='ArticleHeader-headline').get_text()\n",
    "                article = soup_link.find('div', class_='ArticleBody-articleBody').get_text()\n",
    "                date = f'{link[29:31]}-{link[26:28]}-{link[21:25]}'\n",
    "                topic = soup_link.find('a', class_='ArticleHeader-eyebrow').get_text()\n",
    "\n",
    "                df.append([title, topic, date, article, link])\n",
    "\n",
    "                print(f'({index}/{len(list_of_links)}) : {link}')\n",
    "            except:\n",
    "                print(f'({index}/{len(list_of_links)}) : Skipped')\n",
    "        else:\n",
    "            print(f'({index}/{len(list_of_links)}) : Skipped')\n",
    "\n",
    "    return pd.DataFrame(df)"
   ]
  },
  {
   "cell_type": "markdown",
   "metadata": {},
   "source": [
    "### Codeblock 1.3"
   ]
  },
  {
   "cell_type": "code",
   "execution_count": null,
   "metadata": {},
   "outputs": [],
   "source": [
    "def collect_dataset(datasets_path):\n",
    "\n",
    "    import pandas as pd\n",
    "\n",
    "    datasets = [ds for ds in datasets_path if '.csv' in ds]\n",
    "\n",
    "    frames = []\n",
    "    for dataset in datasets:\n",
    "        df = pd.read_csv(dataset, error_bad_lines=False, index_col=False)\n",
    "        df = df[df.columns[-5:]]\n",
    "        df.columns = ['Title', 'Topic', 'Date', 'Content', 'Link']\n",
    "        frames.append(df)\n",
    "\n",
    "    return pd.concat(frames)\n"
   ]
  },
  {
   "cell_type": "markdown",
   "metadata": {},
   "source": [
    "### Codeblock 2.1"
   ]
  },
  {
   "cell_type": "code",
   "execution_count": null,
   "metadata": {},
   "outputs": [],
   "source": [
    "pd.DataFrame(df.Topic.unique()).to_csv('unique_topics.csv')"
   ]
  },
  {
   "cell_type": "markdown",
   "metadata": {},
   "source": [
    "### Codeblock 2.2"
   ]
  },
  {
   "cell_type": "code",
   "execution_count": null,
   "metadata": {},
   "outputs": [],
   "source": [
    "topic_list = pd.read_csv('final_topic_list.csv', sep = \";\")\n",
    "topic_list_clean = pd.DataFrame.dropna(topic_list)"
   ]
  },
  {
   "cell_type": "markdown",
   "metadata": {},
   "source": [
    "### Codeblock 2.3"
   ]
  },
  {
   "cell_type": "code",
   "execution_count": null,
   "metadata": {},
   "outputs": [],
   "source": [
    "predetermined = []\n",
    "index = 0\n",
    "for topic in df[\"Topic\"]:\n",
    "    index += 1\n",
    "    if topic in list(topic_list_clean[\"Topic\"]):\n",
    "        predetermined.append(topic_list_clean[topic_list_clean[\"Topic\"] == topic][\"Predetermined topic\"].to_numpy()[0])\n",
    "    else:\n",
    "        predetermined.append(\"Other\")\n",
    "    print(f'{index}')\n",
    "df['final_topic'] = predetermined"
   ]
  },
  {
   "cell_type": "markdown",
   "metadata": {},
   "source": [
    "### Codeblock 2.4"
   ]
  },
  {
   "cell_type": "code",
   "execution_count": null,
   "metadata": {},
   "outputs": [],
   "source": [
    "df_labelled = df[df['final_topic'] != 'Other']\n",
    "df_predict = df[df['final_topic'] == 'Other']"
   ]
  },
  {
   "cell_type": "markdown",
   "metadata": {},
   "source": [
    "### Codeblock 2.5"
   ]
  },
  {
   "cell_type": "code",
   "execution_count": null,
   "metadata": {},
   "outputs": [],
   "source": [
    "from sklearn.model_selection import train_test_split\n",
    "\n",
    "r_state = 123\n",
    "\n",
    "x_train, x_test, y_train, y_test = train_test_split(\n",
    "    df_labelled['tokens'], df_labelled['final_topic'], test_size=0.25, random_state=r_state)\n",
    "\n",
    "from gensim import models, corpora\n",
    "import ast\n",
    "\n",
    "# At this point we re-imported our data, which is why we run it through the loop below. \n",
    "# The loop converts the \"tokens\" column that previously contained the tokens for each \n",
    "# article, but now simply contained a string representation of the list of tokens, into \n",
    "# an actual list of tokens again. \n",
    "data_processed = x_train.to_numpy()\n",
    "data_conversion = []\n",
    "for line in data_processed:\n",
    "    line = ast.literal_eval(line)\n",
    "    data_conversion.append(line)\n",
    "data_processed = data_conversion\n",
    "\n",
    "dictionary = corpora.Dictionary(data_processed)\n",
    "corpus = [dictionary.doc2bow(line) for line in data_processed]\n",
    "tfidf = models.TfidfModel(corpus, smartirs='ntc')\n",
    "lsa_model = models.LsiModel(tfidf[corpus], id2word=dictionary, num_topics=50)"
   ]
  },
  {
   "cell_type": "markdown",
   "metadata": {},
   "source": [
    "### Codeblock 2.6"
   ]
  },
  {
   "cell_type": "code",
   "execution_count": null,
   "metadata": {},
   "outputs": [],
   "source": [
    "from xgboost import XGBClassifier\n",
    "\n",
    "xgb_model = XGBClassifier(random_state = r_state)\n",
    "xgb_model.fit(x_train, y_train)\n",
    "xgb_prediction = xgb_model.predict(x_test)\n",
    "print(classification_report(y_test,xgb_prediction))"
   ]
  },
  {
   "cell_type": "markdown",
   "metadata": {},
   "source": [
    "### Codeblock 3.1"
   ]
  },
  {
   "cell_type": "code",
   "execution_count": null,
   "metadata": {},
   "outputs": [],
   "source": [
    "def walk_forward_validation(model, epochs, x, y, step_size, train_steps, val_window):\n",
    "    \n",
    "    from sklearn.metrics import mean_squared_error\n",
    "    \n",
    "    n_records = len(x)\n",
    "    n_init_train = step_size * train_steps\n",
    "    train_pred = []\n",
    "    val_pred = []\n",
    "    mse_scores = []\n",
    "    for i in range(n_init_train, n_records, step_size):\n",
    "      \n",
    "        train_from = i-n_init_train\n",
    "        train_to = i\n",
    "        test_from = i+1\n",
    "        test_to = i+val_window\n",
    "\n",
    "        x_train, x_test = x[train_from:train_to], x[test_from:test_to]\n",
    "        y_train, y_test = y[train_from:train_to], y[test_from:test_to]\n",
    "        \n",
    "        print(f'Train from {i-n_init_train} to {i} and validate for {i+1} to {i+val_window}')\n",
    "        model.fit(x_train, y_train, epochs=epochs, verbose=1)\n",
    "\n",
    "        y_train_pred = model.predict(x_train)\n",
    "        for y_train_day in y_train_pred:\n",
    "            train_pred.append(y_train_day.tolist())\n",
    "        \n",
    "        y_pred = model.predict(x_test)\n",
    "        for y_test_day in y_pred:\n",
    "            val_pred.append(y_test_day.tolist())\n",
    "\n",
    "        train_mse = mean_squared_error(y_train,y_train_pred)\n",
    "        val_mse = mean_squared_error(y_test,y_pred)\n",
    "        mse_scores.append([train_mse, val_mse])\n",
    "\n",
    "        print(f'     train: {train_mse} \\nvalidation: {val_mse} \\n')\n",
    "\n",
    "    return train_pred, val_pred, mse_scores\n",
    "\n",
    "train_pred, val_pred, validation_metrics = walk_forward_validation(model = model, epochs = epoch, x = pd.DataFrame(articles_pad[970:]), y = y[970:], step_size = 60, train_steps = 3, val_window = 60)"
   ]
  },
  {
   "cell_type": "markdown",
   "metadata": {},
   "source": [
    "# Sector returns"
   ]
  },
  {
   "cell_type": "code",
   "execution_count": 2,
   "metadata": {},
   "outputs": [],
   "source": [
    "import pandas as pd"
   ]
  },
  {
   "cell_type": "code",
   "execution_count": 42,
   "metadata": {},
   "outputs": [],
   "source": [
    "y_pred_untrain = pd.read_csv('../val_pred_trainable_false.csv').iloc[:,1:]\n",
    "y_pred_train = pd.read_csv('../val_pred_trainable_true.csv').iloc[:,1:]\n",
    "y_returns = pd.read_csv('../y_returns_nn.csv').iloc[:,1:]\n",
    "y_returns = y_returns.iloc[181:180+38*60]\n",
    "\n",
    "sector_list = ['SP500', 'Tech', 'Energy', 'Financials', 'Healthcare', 'Industrials', 'Consumer Discretionary', 'Utilities', 'Materials', 'Consumer Staples', 'Telecom', 'Real Estate']"
   ]
  },
  {
   "cell_type": "code",
   "execution_count": 43,
   "metadata": {},
   "outputs": [
    {
     "data": {
      "text/html": [
       "<div>\n",
       "<style scoped>\n",
       "    .dataframe tbody tr th:only-of-type {\n",
       "        vertical-align: middle;\n",
       "    }\n",
       "\n",
       "    .dataframe tbody tr th {\n",
       "        vertical-align: top;\n",
       "    }\n",
       "\n",
       "    .dataframe thead th {\n",
       "        text-align: right;\n",
       "    }\n",
       "</style>\n",
       "<table border=\"1\" class=\"dataframe\">\n",
       "  <thead>\n",
       "    <tr style=\"text-align: right;\">\n",
       "      <th></th>\n",
       "      <th>Actual/Trained</th>\n",
       "    </tr>\n",
       "  </thead>\n",
       "  <tbody>\n",
       "    <tr>\n",
       "      <th>SP500</th>\n",
       "      <td>0.042950</td>\n",
       "    </tr>\n",
       "    <tr>\n",
       "      <th>Tech</th>\n",
       "      <td>-0.861722</td>\n",
       "    </tr>\n",
       "    <tr>\n",
       "      <th>Energy</th>\n",
       "      <td>-0.220091</td>\n",
       "    </tr>\n",
       "    <tr>\n",
       "      <th>Financials</th>\n",
       "      <td>-0.248198</td>\n",
       "    </tr>\n",
       "    <tr>\n",
       "      <th>Healthcare</th>\n",
       "      <td>0.133296</td>\n",
       "    </tr>\n",
       "    <tr>\n",
       "      <th>Industrials</th>\n",
       "      <td>0.458688</td>\n",
       "    </tr>\n",
       "    <tr>\n",
       "      <th>Consumer Discretionary</th>\n",
       "      <td>-0.019690</td>\n",
       "    </tr>\n",
       "    <tr>\n",
       "      <th>Utilities</th>\n",
       "      <td>0.660723</td>\n",
       "    </tr>\n",
       "    <tr>\n",
       "      <th>Materials</th>\n",
       "      <td>-0.061305</td>\n",
       "    </tr>\n",
       "    <tr>\n",
       "      <th>Consumer Staples</th>\n",
       "      <td>0.309094</td>\n",
       "    </tr>\n",
       "    <tr>\n",
       "      <th>Telecom</th>\n",
       "      <td>0.554493</td>\n",
       "    </tr>\n",
       "    <tr>\n",
       "      <th>Real Estate</th>\n",
       "      <td>0.357658</td>\n",
       "    </tr>\n",
       "  </tbody>\n",
       "</table>\n",
       "</div>"
      ],
      "text/plain": [
       "                        Actual/Trained\n",
       "SP500                         0.042950\n",
       "Tech                         -0.861722\n",
       "Energy                       -0.220091\n",
       "Financials                   -0.248198\n",
       "Healthcare                    0.133296\n",
       "Industrials                   0.458688\n",
       "Consumer Discretionary       -0.019690\n",
       "Utilities                     0.660723\n",
       "Materials                    -0.061305\n",
       "Consumer Staples              0.309094\n",
       "Telecom                       0.554493\n",
       "Real Estate                   0.357658"
      ]
     },
     "execution_count": 43,
     "metadata": {},
     "output_type": "execute_result"
    }
   ],
   "source": [
    "correlations = pd.DataFrame([y_returns.iloc[column].corr(y_pred_train.iloc[column]) for column in range(1,13)], columns = ['Actual/Trained'])\n",
    "correlations.index = sector_list\n",
    "correlations"
   ]
  },
  {
   "cell_type": "code",
   "execution_count": 44,
   "metadata": {},
   "outputs": [
    {
     "data": {
      "image/png": "[encoded data removed]",
      "text/plain": [
       "<Figure size 432x288 with 1 Axes>"
      ]
     },
     "metadata": {
      "needs_background": "light"
     },
     "output_type": "display_data"
    }
   ],
   "source": [
    "average_sector_returns = pd.concat([pd.DataFrame(y_returns.mean()-1),pd.DataFrame(y_pred_train.mean()-1),pd.DataFrame(y_pred_untrain.mean()-1)], axis=1)\n",
    "average_sector_returns.columns = ['Actual_average', 'Trainable_predicted_average', 'Untrainable_predicted_average']\n",
    "sector_list = ['SP500', 'Tech', 'Energy', 'Financials', 'Healthcare', 'Industrials', 'Consumer Discretionary', 'Utilities', 'Materials', 'Consumer Staples', 'Telecom', 'Real Estate']\n",
    "average_sector_returns['Sector'] = sector_list\n",
    "\n",
    "import matplotlib.pyplot as plt\n",
    "\n",
    "average_sector_returns.plot(x=\"Sector\", y=['Actual_average', 'Trainable_predicted_average', 'Untrainable_predicted_average'], kind=\"bar\")\n",
    "plt.show()"
   ]
  },
  {
   "cell_type": "code",
   "execution_count": 24,
   "metadata": {},
   "outputs": [
    {
     "data": {
      "text/plain": [
       "0     0.002344\n",
       "1     0.003507\n",
       "2    -0.000155\n",
       "3     0.001873\n",
       "4     0.002992\n",
       "5     0.002024\n",
       "6     0.002766\n",
       "7     0.001742\n",
       "8     0.001318\n",
       "9     0.001960\n",
       "10    0.001168\n",
       "11    0.001479\n",
       "dtype: float64"
      ]
     },
     "execution_count": 24,
     "metadata": {},
     "output_type": "execute_result"
    }
   ],
   "source": [
    "y_pred_train.mean()-1"
   ]
  },
  {
   "cell_type": "code",
   "execution_count": null,
   "metadata": {},
   "outputs": [],
   "source": []
  }
 ],
 "metadata": {
  "kernelspec": {
   "display_name": "Python 3",
   "language": "python",
   "name": "python3"
  },
  "language_info": {
   "codemirror_mode": {
    "name": "ipython",
    "version": 3
   },
   "file_extension": ".py",
   "mimetype": "text/x-python",
   "name": "python",
   "nbconvert_exporter": "python",
   "pygments_lexer": "ipython3",
   "version": "3.7.6"
  }
 },
 "nbformat": 4,
 "nbformat_minor": 4
}
